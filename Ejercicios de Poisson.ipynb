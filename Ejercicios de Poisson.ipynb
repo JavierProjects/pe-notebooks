{
 "cells": [
  {
   "cell_type": "markdown",
   "id": "6c191961-1125-49ec-bbc8-2a865f705e39",
   "metadata": {},
   "source": [
    "# Ditribución de Poisson (pag. 166) "
   ]
  },
  {
   "cell_type": "code",
   "execution_count": 43,
   "id": "5f3038c7-5606-4620-bb1d-6b1400f6ecb1",
   "metadata": {},
   "outputs": [
    {
     "name": "stdout",
     "output_type": "stream",
     "text": [
      "Bibliotecas cargadas\n"
     ]
    }
   ],
   "source": [
    "import matplotlib.pyplot as plt\n",
    "from scipy.stats import poisson \n",
    "from scipy.stats import binom \n",
    "print(\"Bibliotecas cargadas\")"
   ]
  },
  {
   "cell_type": "markdown",
   "id": "d55a7c99-7ce3-45f4-a4a0-8550c0140823",
   "metadata": {
    "tags": []
   },
   "source": [
    ">--- \n",
    "Nota: en algunas celdas se redeclaran algunas variables para efectos de compresión del procedimiento."
   ]
  },
  {
   "cell_type": "markdown",
   "id": "81fb3e6a-87be-45ea-8b05-a0693f08c6cc",
   "metadata": {},
   "source": [
    "# Menu\n",
    "\n",
    "- [[15] Demografía](#ex_15)\n",
    "- [[16] Turismo](#ex_16)\n",
    "- [[17] Pasatiempos](#ex_17)\n",
    "- [[18] Inseguridad](#ex_18)\n",
    "- [[19] Economía](#ex_19)\n",
    "- [[20] Deportes](#ex_20)\n",
    "- [[21] Aeronáutica](#ex_21)\n",
    "- [[22] Servicios](#ex_22)"
   ]
  },
  {
   "cell_type": "markdown",
   "id": "4c4e2edf-d4df-4178-ac2c-605308b778c3",
   "metadata": {},
   "source": [
    "<div id=ex_15></div>\n",
    "\n",
    "[[Menu]](#Menu)   |   [[Siguiente]](#ex_16)  \n",
    "___\n",
    "\n",
    "<span style=\"color: #153CEE;\">[15] Demografía</span>. De acuerdo con cifras del Censo Poblacional 2010, en México hay, en promedio, 3.9 habitantes por vivienda. Con esta información:  \n",
    "a) Construye la distribución de probabilidad, así como la gráfica correspondiente y descríbela, indicando qué tipo de sesgo que presenta.  \n",
    "El ssego es a la **IZQUIERDA**."
   ]
  },
  {
   "cell_type": "code",
   "execution_count": 44,
   "id": "efc0371d-4f26-46b4-9b58-92f8e638e3da",
   "metadata": {},
   "outputs": [
    {
     "name": "stdout",
     "output_type": "stream",
     "text": [
      "Distribución de probabilidad\n",
      "---------------------------\n",
      "p(k=0)= 0.02024191144580439\n",
      "p(k=1)= 0.07894345463863713\n",
      "p(k=2)= 0.15393973654534235\n",
      "p(k=3)= 0.2001216575089451\n",
      "p(k=4)= 0.19511861607122136\n",
      "p(k=5)= 0.15219252053555266\n",
      "p(k=6)= 0.09892513834810923\n",
      "p(k=7)= 0.055115434222517974\n",
      "p(k=8)= 0.0268687741834775\n",
      "p(k=9)= 0.01164313547950692\n",
      "p(k=10)= 0.004540822837007692\n",
      "p(k=11)= 0.001609928096757272\n",
      "p(k=12)= 0.0005232266314461152\n"
     ]
    }
   ],
   "source": [
    "# Distribución\n",
    "\n",
    "lambda_value = 3.9\n",
    "k = range(0, 13)\n",
    "y = poisson.pmf(k, lambda_value)\n",
    "\n",
    "print(\"Distribución de probabilidad\")\n",
    "print(\"---------------------------\")\n",
    "for valor in k:\n",
    "    print(\"p(k={})= {}\".format(k[valor], y[valor]))"
   ]
  },
  {
   "cell_type": "code",
   "execution_count": 45,
   "id": "caad9240-6f07-4ba3-a389-e00604397b95",
   "metadata": {},
   "outputs": [
    {
     "data": {
      "image/png": "[encoded data removed]",
      "text/plain": [
       "<Figure size 432x288 with 1 Axes>"
      ]
     },
     "metadata": {
      "needs_background": "light"
     },
     "output_type": "display_data"
    }
   ],
   "source": [
    "# Grafica\n",
    "\n",
    "lambda_value = 3.9\n",
    "k = range(0, 13)\n",
    "y = poisson.pmf(k, lambda_value)\n",
    "\n",
    "plt.bar(k, y)\n",
    "plt.xlabel(\"Valores de k\")\n",
    "plt.ylabel(\"Probabilidades\")\n",
    "plt.title(\"Distribución de Poisson\")\n",
    "plt.show()"
   ]
  },
  {
   "cell_type": "markdown",
   "id": "16a519cd-6bef-45c9-a283-f1db0a97f209",
   "metadata": {},
   "source": [
    "b) Calcula la probabilidad de que una vivienda sea habitada por cinco personas."
   ]
  },
  {
   "cell_type": "code",
   "execution_count": 46,
   "id": "0d628d91-2fa4-4176-8f4f-abbd95071ea9",
   "metadata": {},
   "outputs": [
    {
     "name": "stdout",
     "output_type": "stream",
     "text": [
      "0.15219252053555266\n"
     ]
    }
   ],
   "source": [
    "# P(X = 5)\n",
    "\n",
    "lambda_value = 3.9\n",
    "k = 5\n",
    "y = poisson.pmf(k, lambda_value)\n",
    "print(y)"
   ]
  },
  {
   "cell_type": "markdown",
   "id": "8e9917ff-2780-4261-a719-b2fa596b99bd",
   "metadata": {},
   "source": [
    "c) Encuentra la probabilidad de que en un hogar vivan más de tres personas."
   ]
  },
  {
   "cell_type": "code",
   "execution_count": 47,
   "id": "6d107abb-fd3b-4f68-a86f-2624c1f32ad1",
   "metadata": {},
   "outputs": [
    {
     "name": "stdout",
     "output_type": "stream",
     "text": [
      "0.546753239861271\n"
     ]
    }
   ],
   "source": [
    "# P(X > 3) = 1 - P(X <= 3)\n",
    "\n",
    "lambda_value = 3.9\n",
    "k = [0, 1, 2, 3]\n",
    "y = poisson.pmf(k, lambda_value)\n",
    "result = 1 - sum(y) \n",
    "print(result)"
   ]
  },
  {
   "cell_type": "markdown",
   "id": "862d610a-3f94-4c7c-bd73-8daeb68fcbd6",
   "metadata": {},
   "source": [
    "<div id=ex_16></div>\n",
    "\n",
    "[[Menu]](#Menu)   |   [[Anterior]](#ex_15)  [[Siguiente]](#ex_17)  \n",
    "___\n",
    "\n",
    "<span style=\"color: #153CEE;\">[16] Turismo</span>. Al término de la Semana Santa de 2011, en la caseta de la autopista a Cuernavaca ingresaban 75 autos en promedio por minuto. Con este dato, calcula la probabilidad de que en un minuto dado, ingresaran:  \n",
    "a) 80 autos."
   ]
  },
  {
   "cell_type": "code",
   "execution_count": 48,
   "id": "1e4539ef-8211-4e0b-bd4b-42d459c2693e",
   "metadata": {},
   "outputs": [
    {
     "name": "stdout",
     "output_type": "stream",
     "text": [
      "0.03785185834094226\n"
     ]
    }
   ],
   "source": [
    "# P(X = 80)\n",
    "\n",
    "lambda_value = 75\n",
    "k = 80\n",
    "y = poisson.pmf(k, lambda_value)\n",
    "print(y)"
   ]
  },
  {
   "cell_type": "markdown",
   "id": "74b95f04-ae46-442a-800f-515566023896",
   "metadata": {},
   "source": [
    "b) 50 autos."
   ]
  },
  {
   "cell_type": "code",
   "execution_count": 49,
   "id": "7f080bb9-3214-4acc-847d-854e353c845b",
   "metadata": {},
   "outputs": [
    {
     "name": "stdout",
     "output_type": "stream",
     "text": [
      "0.0004987721024975739\n"
     ]
    }
   ],
   "source": [
    "# P(X = 50)\n",
    "\n",
    "lambda_value = 75\n",
    "k = 50\n",
    "y = poisson.pmf(k, lambda_value)\n",
    "print(y)"
   ]
  },
  {
   "cell_type": "markdown",
   "id": "42518808-c431-4781-88d3-f8d85fdbcdff",
   "metadata": {},
   "source": [
    "c) de que en 15 minutos, ingresaran 800 autos."
   ]
  },
  {
   "cell_type": "code",
   "execution_count": 50,
   "id": "c95f73bc-3a10-4400-b87a-117a73abf4c4",
   "metadata": {},
   "outputs": [
    {
     "name": "stdout",
     "output_type": "stream",
     "text": [
      "2.8421145575057993e-25\n"
     ]
    }
   ],
   "source": [
    "# P(X = 800) \n",
    "\n",
    "lambda_value = 75 * 15\n",
    "k = 800\n",
    "y = poisson.pmf(k, lambda_value)\n",
    "print(y)"
   ]
  },
  {
   "cell_type": "markdown",
   "id": "a06fb22e-06c8-4a1f-82fd-dde5fc212544",
   "metadata": {},
   "source": [
    "<div id=ex_17></div>\n",
    "\n",
    "[[Menu]](#Menu)   |   [[Anterior]](#ex_16)  [[Siguiente]](#ex_18)  \n",
    "___\n",
    "\n",
    "<span style=\"color: #153CEE;\">[17] Pasatiempos.</span> Abel Pérez tiene como pasatiempo armar rompecabezas. Puede pasar horas escuchando música mientras coloca piezas. El rompecabezas que actualmente arma es de 5000 piezas, y en un día coloca en promedio 100 piezas.    \n",
    "a) Determina la probabilidad de que en un día coloque entre 100 y 110 piezas, inclusive."
   ]
  },
  {
   "cell_type": "code",
   "execution_count": 51,
   "id": "67be69f3-5765-4b2b-9a08-134cae122260",
   "metadata": {},
   "outputs": [
    {
     "name": "stdout",
     "output_type": "stream",
     "text": [
      "0.36616144983690785\n"
     ]
    }
   ],
   "source": [
    "# P(100 <= X <= 110)\n",
    "\n",
    "lamda_value = 100\n",
    "k = list(range(100, 111))\n",
    "y = poisson.pmf(k, lamda_value)\n",
    "result = sum(y)\n",
    "print(result)"
   ]
  },
  {
   "cell_type": "markdown",
   "id": "98f470f4-d979-4186-ab9e-3066fefef5c6",
   "metadata": {},
   "source": [
    "b) Calcula la probabilidad de que en un día en que esté muy inspirado coloque 150 piezas."
   ]
  },
  {
   "cell_type": "code",
   "execution_count": 52,
   "id": "ffe1e205-c6a4-473b-b180-d1a701721799",
   "metadata": {},
   "outputs": [
    {
     "name": "stdout",
     "output_type": "stream",
     "text": [
      "6.511160468786359e-07\n"
     ]
    }
   ],
   "source": [
    "# P(X = 150)\n",
    "\n",
    "lamda_value = 100\n",
    "k = 150\n",
    "y = poisson.pmf(k, lamda_value)\n",
    "print(y)"
   ]
  },
  {
   "cell_type": "markdown",
   "id": "1876fb63-e0b6-4cda-b31f-e6783b1aa0b3",
   "metadata": {},
   "source": [
    "c) En un día cualquiera, Abel no está inspirado. ¿Cuál es la probabilidad de que coloque 45\n",
    "piezas o menos?"
   ]
  },
  {
   "cell_type": "code",
   "execution_count": 53,
   "id": "e3fb3f2a-5502-4014-a05c-c0e6a497c117",
   "metadata": {},
   "outputs": [
    {
     "name": "stdout",
     "output_type": "stream",
     "text": [
      "5.576212818454729e-10\n"
     ]
    }
   ],
   "source": [
    "# P(X <= 45)\n",
    "\n",
    "lamda_value = 100\n",
    "k = list(range(46))\n",
    "y = poisson.pmf(k, lamda_value)\n",
    "result = sum(y)\n",
    "print(result)"
   ]
  },
  {
   "cell_type": "markdown",
   "id": "663f3676-2e44-4719-b569-70a1899411f7",
   "metadata": {},
   "source": [
    "<div id=ex_18></div>\n",
    "\n",
    "[[Menu]](#Menu)   |   [[Anterior]](#ex_17)  [[Siguiente]](#ex_19)  \n",
    "___\n",
    "\n",
    "<span style=\"color: #153CEE;\">[18] Inseguridad.</span> Deacuerdo con las estadísticas de criminalidad, en promedio se roba un auto cada tres minutos. Determina:   \n",
    "a) La distribución de probabilidad y la gráfica correspondiente. Describe de manera breve la distribución.  \n",
    "La distribucion esta sesgada a la **IZQUIERDA**"
   ]
  },
  {
   "cell_type": "code",
   "execution_count": 54,
   "id": "22016a9a-60e5-4efd-92bd-da82530c41e1",
   "metadata": {},
   "outputs": [
    {
     "name": "stdout",
     "output_type": "stream",
     "text": [
      "Distribución de probabilidad\n",
      "---------------------------\n",
      "p(k=0)= 0.36787944117144233\n",
      "p(k=1)= 0.36787944117144233\n",
      "p(k=2)= 0.18393972058572114\n",
      "p(k=3)= 0.06131324019524039\n",
      "p(k=4)= 0.015328310048810101\n",
      "p(k=5)= 0.00306566200976202\n",
      "p(k=6)= 0.0005109436682936698\n",
      "p(k=7)= 7.299195261338139e-05\n",
      "p(k=8)= 9.123994076672672e-06\n",
      "p(k=9)= 1.013777119630298e-06\n",
      "p(k=10)= 1.0137771196302987e-07\n"
     ]
    }
   ],
   "source": [
    "# Distribución\n",
    "\n",
    "lamda_value = 1\n",
    "k = list(range(11))\n",
    "y = poisson.pmf(k, lamda_value)\n",
    "\n",
    "print(\"Distribución de probabilidad\")\n",
    "print(\"---------------------------\")\n",
    "for valor in k:\n",
    "    print(\"p(k={})= {}\".format(k[valor], y[valor]))"
   ]
  },
  {
   "cell_type": "code",
   "execution_count": 55,
   "id": "344c597f-aa52-4348-8378-fe5b13afb7eb",
   "metadata": {},
   "outputs": [
    {
     "data": {
      "image/png": "[encoded data removed]",
      "text/plain": [
       "<Figure size 432x288 with 1 Axes>"
      ]
     },
     "metadata": {
      "needs_background": "light"
     },
     "output_type": "display_data"
    }
   ],
   "source": [
    "# Grafica\n",
    "\n",
    "lamda_value = 1\n",
    "k = list(range(11))\n",
    "y = poisson.pmf(k, lamda_value)\n",
    "\n",
    "plt.bar(k, y)\n",
    "plt.xlabel(\"Valores de k\")\n",
    "plt.ylabel(\"Probabilidades\")\n",
    "plt.title(\"Distribución de Poisson\")\n",
    "plt.show()"
   ]
  },
  {
   "cell_type": "markdown",
   "id": "64e7b524-bd1b-4e68-85c5-5eafe8df286d",
   "metadata": {},
   "source": [
    "b) La probabilidad de que en los siguientes tres minutos se roben dos autos."
   ]
  },
  {
   "cell_type": "code",
   "execution_count": 56,
   "id": "cb2ab26e-6a1a-48ab-bc32-a5e1c0a4c6d5",
   "metadata": {},
   "outputs": [
    {
     "name": "stdout",
     "output_type": "stream",
     "text": [
      "0.18393972058572114\n"
     ]
    }
   ],
   "source": [
    "# P(X = 2)\n",
    "\n",
    "lamda_value = 1\n",
    "k = 2\n",
    "y = poisson.pmf(k, lamda_value)\n",
    "print(y)"
   ]
  },
  {
   "cell_type": "markdown",
   "id": "64481f7e-bb84-44c4-9214-45b6459e50b3",
   "metadata": {},
   "source": [
    "c) La probabilidad de que en los siguientes tres minutos se roben dos autos o menos."
   ]
  },
  {
   "cell_type": "code",
   "execution_count": 57,
   "id": "e0104156-19e7-4c28-8232-466635d006e3",
   "metadata": {},
   "outputs": [
    {
     "name": "stdout",
     "output_type": "stream",
     "text": [
      "0.9196986029286058\n"
     ]
    }
   ],
   "source": [
    "# P(X <= 2)\n",
    "\n",
    "lamda_value = 1\n",
    "k = [0, 1, 2]\n",
    "y = poisson.pmf(k, lamda_value)\n",
    "result = sum(y)\n",
    "print(result)"
   ]
  },
  {
   "cell_type": "markdown",
   "id": "5d07223b-d54f-4572-a268-633422966caf",
   "metadata": {},
   "source": [
    "d) La probabilidad de que se roben seis autos en los siguientes 15 minutos."
   ]
  },
  {
   "cell_type": "code",
   "execution_count": 58,
   "id": "fbf0af87-adfd-422d-a686-483f64092beb",
   "metadata": {},
   "outputs": [
    {
     "name": "stdout",
     "output_type": "stream",
     "text": [
      "0.1462228081398754\n"
     ]
    }
   ],
   "source": [
    "# P(X = 6)\n",
    "\n",
    "lamda_value = 5\n",
    "k = 6\n",
    "y = poisson.pmf(k, lamda_value)\n",
    "print(y)"
   ]
  },
  {
   "cell_type": "markdown",
   "id": "a0363e44-2427-48d7-b685-057854689a47",
   "metadata": {},
   "source": [
    "<div id=ex_19></div>\n",
    "\n",
    "[[Menu]](#Menu)   |   [[Anterior]](#ex_18)  [[Siguiente]](#ex_20)  \n",
    "___\n",
    "\n",
    "<span style=\"color: #153CEE;\">[19] Economía.</span> Una cadena de super mercados, cuyo nombre empieza con W, abrió 267 tiendas en México durante 2010. Con esta información,  \n",
    "a) Determina λ para el número promedio de tiendas abiertas en un día."
   ]
  },
  {
   "cell_type": "code",
   "execution_count": 59,
   "id": "21af1588-47e5-4676-98dc-82ba4c8dd6cd",
   "metadata": {},
   "outputs": [
    {
     "name": "stdout",
     "output_type": "stream",
     "text": [
      "0.7315068493150685\n"
     ]
    }
   ],
   "source": [
    "lamda_value = 267/365\n",
    "print(lamda_value)"
   ]
  },
  {
   "cell_type": "markdown",
   "id": "e2bbf50b-11a8-49c1-bc8e-cef10c669dd3",
   "metadata": {},
   "source": [
    "b) ¿Cuál es la probabilidad de que en un día se abran dos tiendas?"
   ]
  },
  {
   "cell_type": "code",
   "execution_count": 60,
   "id": "20ab225d-3459-4a46-bfe5-85c806b0f0e5",
   "metadata": {},
   "outputs": [
    {
     "name": "stdout",
     "output_type": "stream",
     "text": [
      "0.12874115765049804\n"
     ]
    }
   ],
   "source": [
    "# P(X = 2)\n",
    "\n",
    "lamda_value = 267/365\n",
    "k = 2\n",
    "y = poisson.pmf(k, lamda_value)\n",
    "print(y)"
   ]
  },
  {
   "cell_type": "markdown",
   "id": "df1a8705-a42a-4585-a366-96f917d411ef",
   "metadata": {},
   "source": [
    "c) ¿Cuál es la probabilidad de que en una semana se inauguren seis tiendas?"
   ]
  },
  {
   "cell_type": "code",
   "execution_count": 61,
   "id": "96dc6704-7b0b-4b5f-b726-28a7f79107bc",
   "metadata": {},
   "outputs": [
    {
     "name": "stdout",
     "output_type": "stream",
     "text": [
      "0.14953415750157859\n"
     ]
    }
   ],
   "source": [
    "# P(X = 6)\n",
    "\n",
    "lamda_value = 267/365 * 7\n",
    "k = 6\n",
    "y = poisson.pmf(k, lamda_value)\n",
    "print(y)"
   ]
  },
  {
   "cell_type": "markdown",
   "id": "27f25c7b-6178-41d7-a3f0-7fa0e02265de",
   "metadata": {},
   "source": [
    "<div id=ex_20></div>\n",
    "\n",
    "[[Menu]](#Menu)   |   [[Anterior]](#ex_19)  [[Siguiente]](#ex_21)  \n",
    "___\n",
    "\n",
    "<span style=\"color: #153CEE;\">[20] Deportes.</span> En un gimnasio sólo para mujeres se realizan ejercicios aeróbicos y ejercicios en aparatos. El circuito está constituido por nueve aparatos tonificadores y ocho estaciones para los ejercicios aeróbicos. En un día cualquiera, en hora pico (entre las 19 y 20 horas), llegan en promedio siete mujeres. En ese horario:  \n",
    "a) ¿Cuál es la probabilidad de que lleguen menos de cinco mujeres?"
   ]
  },
  {
   "cell_type": "code",
   "execution_count": 62,
   "id": "d681e20b-bdea-49db-9ba1-ae71b9744441",
   "metadata": {},
   "outputs": [
    {
     "name": "stdout",
     "output_type": "stream",
     "text": [
      "0.1729916078820712\n"
     ]
    }
   ],
   "source": [
    "# P(X < 5)\n",
    "\n",
    "lamda_value = 7\n",
    "k = [0, 1, 2, 3, 4]\n",
    "y = poisson.pmf(k, lamda_value)\n",
    "result = sum(y)\n",
    "print(result)"
   ]
  },
  {
   "cell_type": "markdown",
   "id": "f6965bcc-caea-4ef0-b297-a508b31aecba",
   "metadata": {},
   "source": [
    "b) ¿Cuál es la probabilidad de que estén ocupados todos los aparatos?"
   ]
  },
  {
   "cell_type": "code",
   "execution_count": 63,
   "id": "a2619e81-0bb6-45f1-baf7-af4a3fcaba27",
   "metadata": {},
   "outputs": [
    {
     "name": "stdout",
     "output_type": "stream",
     "text": [
      "0.10140466950059107\n"
     ]
    }
   ],
   "source": [
    "# P(X = 9)\n",
    "\n",
    "lamda_value = 7\n",
    "k = 9\n",
    "y = poisson.pmf(k, lamda_value)\n",
    "print(y)"
   ]
  },
  {
   "cell_type": "markdown",
   "id": "e03b7695-330b-48ea-bab5-3c0f6d8881b3",
   "metadata": {},
   "source": [
    "c) Y en un día extraordinario, ¿cuál es la probabilidad de que tanto los aparatos como las estaciones estén ocupados?"
   ]
  },
  {
   "cell_type": "code",
   "execution_count": 64,
   "id": "3c6173a5-0fe2-4c36-970e-98db967e2597",
   "metadata": {},
   "outputs": [
    {
     "name": "stdout",
     "output_type": "stream",
     "text": [
      "0.00059639884231544\n"
     ]
    }
   ],
   "source": [
    "# P(X = 17)\n",
    "\n",
    "lamda_value = 7\n",
    "k = 17\n",
    "y = poisson.pmf(k, lamda_value)\n",
    "print(y)"
   ]
  },
  {
   "cell_type": "markdown",
   "id": "8d5f36ea-7288-4a37-ba28-44e2597e823f",
   "metadata": {},
   "source": [
    "<div id=ex_21></div>\n",
    "\n",
    "[[Menu]](#Menu)   |   [[Anterior]](#ex_20)  [[Siguiente]](#ex_22)  \n",
    "___\n",
    "\n",
    "<span style=\"color: #153CEE;\">[21] Aeronáutica.</span> Los aviones son los transportes más seguros que hay. Según los datos de las compañías aéreas que más accidentes han tenido, la probabilidad de sufrir un accidente es de 0.0002%. Si en un aeropuerto se registran en una semana determinada 3500 operaciones áereas,  \n",
    "a) ¿Aplicarías una distribución binomial o una de Poisson? Justifica tu respuesta."
   ]
  },
  {
   "cell_type": "markdown",
   "id": "bed00523-de0b-43e0-9d92-61fa0ea7328e",
   "metadata": {},
   "source": [
    "Aplicaria una distribucion de Poisson utilizando la aproximacion de la Binomial"
   ]
  },
  {
   "cell_type": "markdown",
   "id": "2c2640d4-73ca-4924-ae14-0ca0662c096d",
   "metadata": {},
   "source": [
    "b) ¿Cuál es la probabilidad de que haya cuando mucho un accidente aéreo?"
   ]
  },
  {
   "cell_type": "code",
   "execution_count": 65,
   "id": "d34abbe8-7873-417e-b40f-9ca43b30cccd",
   "metadata": {},
   "outputs": [
    {
     "data": {
      "image/png": "[encoded data removed]",
      "text/plain": [
       "<Figure size 432x288 with 1 Axes>"
      ]
     },
     "metadata": {
      "needs_background": "light"
     },
     "output_type": "display_data"
    }
   ],
   "source": [
    "# Grafica\n",
    "\n",
    "lamda_value = 3500 * 0.0000002\n",
    "k = [0, 1, 2, 3, 4, 5]\n",
    "y = poisson.pmf(k, lamda_value)\n",
    "\n",
    "plt.bar(k, y)\n",
    "plt.xlabel(\"Valores de k\")\n",
    "plt.ylabel(\"Probabilidades\")\n",
    "plt.title(\"Distribución de Poisson\")\n",
    "plt.show()"
   ]
  },
  {
   "cell_type": "markdown",
   "id": "437bc7cf-e777-468d-8027-2f59ee42e960",
   "metadata": {},
   "source": [
    "Es importante entender que **cuando mucho** un accidente aereo implica la suma de 2 probabilidades:  \n",
    "la probabilidad de que no haya un accidente aéreo (que es bastante alta, ver la grafica de arriba) y   \n",
    "la probabilidad de que haya un accidente aéreo, la cual es bastante baja."
   ]
  },
  {
   "cell_type": "code",
   "execution_count": 66,
   "id": "69b60ad8-b91d-4726-86f9-1aab43c81676",
   "metadata": {},
   "outputs": [
    {
     "name": "stdout",
     "output_type": "stream",
     "text": [
      "0.9999997551143033\n"
     ]
    }
   ],
   "source": [
    "# Se utiliza la aproximación de la Binomial que dice que: lamda = np\n",
    "\n",
    "lamda_value = 3500 * 0.0000002\n",
    "k = [0, 1]\n",
    "y = poisson.pmf(k, lamda_value)\n",
    "result = sum(y)\n",
    "print(result)"
   ]
  },
  {
   "cell_type": "markdown",
   "id": "77670269-cd0c-4cd0-b7f4-4841ecb36ba0",
   "metadata": {},
   "source": [
    "<div id=ex_22></div>\n",
    "\n",
    "[[Menu]](#Menu)   |   [[Anterior]](#ex_21)  \n",
    "___\n",
    "\n",
    "<span style=\"color: #153CEE;\">[22] Servicios.</span> Se calcula que 0.3% de quienes llaman a los servicios de atención a clientes de un banco recibirá una señal de línea ocupada. Si se reciben 1100 llamadas, entonces:  \n",
    "a) ¿Aplicarías una distribución binomial o una de Poisson? Justifica tu respuesta."
   ]
  },
  {
   "cell_type": "markdown",
   "id": "54a547e5-4fdc-4932-badf-917593a4c8ad",
   "metadata": {},
   "source": [
    "Aplicaria una distribucion Bonomial por que el problema proporciona los valores de p y n."
   ]
  },
  {
   "cell_type": "markdown",
   "id": "5fdebeb4-a4f9-4667-9eb0-eb40eff807a8",
   "metadata": {},
   "source": [
    "b) ¿Cuál es la probabilidad de que por lo menos cinco personas hayan recibido una señal de\n",
    "línea ocupada?"
   ]
  },
  {
   "cell_type": "code",
   "execution_count": 67,
   "id": "0026c7db-e75a-4a3b-83b9-e87472adadab",
   "metadata": {},
   "outputs": [
    {
     "name": "stdout",
     "output_type": "stream",
     "text": [
      "0.23721767289985063\n"
     ]
    }
   ],
   "source": [
    "# P(X >= 5) = 1 - P(X < 5)\n",
    "\n",
    "p = 0.003\n",
    "n = 1100\n",
    "k = [0, 1, 2, 3, 4]\n",
    "y = binom.pmf(k, n, p)\n",
    "result = 1 - sum(y)\n",
    "print(result)"
   ]
  },
  {
   "cell_type": "code",
   "execution_count": 68,
   "id": "f002655f-baac-4080-b06b-6840723dc9a1",
   "metadata": {},
   "outputs": [
    {
     "name": "stdout",
     "output_type": "stream",
     "text": [
      "0.23721767289985035\n"
     ]
    }
   ],
   "source": [
    "# P(X >= 5)\n",
    "\n",
    "p = 0.003\n",
    "n = 1100\n",
    "k = list(range(5, 1100 + 1))\n",
    "y = binom.pmf(k, n, p)\n",
    "result = sum(y)\n",
    "print(result)"
   ]
  }
 ],
 "metadata": {
  "kernelspec": {
   "display_name": "Python 3 (ipykernel)",
   "language": "python",
   "name": "python3"
  },
  "language_info": {
   "codemirror_mode": {
    "name": "ipython",
    "version": 3
   },
   "file_extension": ".py",
   "mimetype": "text/x-python",
   "name": "python",
   "nbconvert_exporter": "python",
   "pygments_lexer": "ipython3",
   "version": "3.8.5"
  }
 },
 "nbformat": 4,
 "nbformat_minor": 5
}
