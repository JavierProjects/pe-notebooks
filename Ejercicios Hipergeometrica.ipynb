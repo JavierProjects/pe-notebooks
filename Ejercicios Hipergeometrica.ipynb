{
 "cells": [
  {
   "cell_type": "markdown",
   "id": "a70ae122-d262-4a99-94ae-8eb188c325be",
   "metadata": {},
   "source": [
    "# Ditribución Hipergeometrica"
   ]
  },
  {
   "cell_type": "code",
   "execution_count": 1,
   "id": "a8760a9f-0262-4f2b-a7b6-56fcd22be2d7",
   "metadata": {},
   "outputs": [
    {
     "name": "stdout",
     "output_type": "stream",
     "text": [
      "Bibliotecas cargadas\n"
     ]
    }
   ],
   "source": [
    "import matplotlib.pyplot as plt\n",
    "from scipy.stats import hypergeom\n",
    "print(\"Bibliotecas cargadas\")"
   ]
  },
  {
   "cell_type": "markdown",
   "id": "d7a4fbfa-af80-4df3-9d7e-c79cfd238c5e",
   "metadata": {
    "tags": []
   },
   "source": [
    ">--- \n",
    "Nota: en algunas celdas se redeclaran algunas variables para efectos de compresión del procedimiento."
   ]
  },
  {
   "cell_type": "markdown",
   "id": "c4361df7-90a6-4a9e-86e2-4afefdc05512",
   "metadata": {},
   "source": [
    "# Menu\n",
    "\n",
    "- [[1] Bolas de colores](#ex_1)\n",
    "- [[2] Baraja](#ex_2)\n",
    "- [[3] Población](#ex_3)"
   ]
  },
  {
   "cell_type": "markdown",
   "id": "86fa279e-c602-47bf-a366-c2f2f612182f",
   "metadata": {},
   "source": [
    "<div id=ex_1></div>\n",
    "\n",
    "[[Menu]](#Menu)   [[Siguiente]](#ex_2)\n",
    "\n",
    "---\n",
    "\n",
    "<span style=\"color: #153CEE;\">[1] Bolas de colores.</span> En una urna hay 15 bolas rojas, 10 bolas azules y 5 bolas verdes. Se extraen al azar 7 bolas sin reemplazo. Calcula:  \n",
    "a) La probabilidad de que exactamente 3 bolas sean rojas."
   ]
  },
  {
   "cell_type": "code",
   "execution_count": 2,
   "id": "4dd2879c-de14-496a-b5c5-52dba4a2b647",
   "metadata": {},
   "outputs": [
    {
     "name": "stdout",
     "output_type": "stream",
     "text": [
      "0.30507662835249044\n"
     ]
    }
   ],
   "source": [
    "# P(X = 3)\n",
    "\n",
    "N = 30  # Hay en total 30 bolas\n",
    "K = 15  # Hay 15 bolas rojas\n",
    "n = 7   # Se van a extraer 7 bolas \n",
    "k = 3   # Que 3 de las 7 sean rojas \n",
    "y = hypergeom.pmf(k, N, K, n)\n",
    "print(y)"
   ]
  },
  {
   "cell_type": "markdown",
   "id": "abf1261e-a3a4-4b00-a10e-e76938bd69d7",
   "metadata": {},
   "source": [
    "b) La probabilidad de que al menos 2 bolas sean azules."
   ]
  },
  {
   "cell_type": "code",
   "execution_count": 3,
   "id": "68bd5200-cc77-49a9-a293-af3dcd175b22",
   "metadata": {},
   "outputs": [
    {
     "name": "stdout",
     "output_type": "stream",
     "text": [
      "0.7715296198054818\n"
     ]
    }
   ],
   "source": [
    "# P(X >= 2)\n",
    "\n",
    "N = 30  # Hay en total 30 bolas\n",
    "K = 10  # Hay 10 bolas azules\n",
    "n = 7   # Se van a extraer 7 bolas \n",
    "k = list(range(2, 7 + 1)) # 2, 3, ..., 7\n",
    "y = hypergeom.pmf(k, N, K, n)\n",
    "print(sum(y))"
   ]
  },
  {
   "cell_type": "markdown",
   "id": "023543d9-d13a-4752-b640-0303ef97ac72",
   "metadata": {},
   "source": [
    "c) La probabilidad de que no haya ninguna bola verde en la muestra."
   ]
  },
  {
   "cell_type": "code",
   "execution_count": 4,
   "id": "f1f70149-de17-4231-8626-75acd5ca5796",
   "metadata": {},
   "outputs": [
    {
     "name": "stdout",
     "output_type": "stream",
     "text": [
      "0.2361233912958051\n"
     ]
    }
   ],
   "source": [
    "N = 30  # Hay en total 30 bolas\n",
    "K = 5   # Hay 5 bolas verdes\n",
    "n = 7   # Se van a extraer 7 bolas \n",
    "k = 0   # Que ninguna sea verde\n",
    "y = hypergeom.pmf(k, N, K, n)\n",
    "print(y)"
   ]
  },
  {
   "cell_type": "markdown",
   "id": "338f181a-b703-4b00-9665-26dd0009696d",
   "metadata": {},
   "source": [
    "<div id=ex_2></div>\n",
    "\n",
    "[[Menu]](#Menu) |  [[Anterior]](#ex_1)   [[Siguiente]](#ex_3)\n",
    "\n",
    "---\n",
    "\n",
    "<span style=\"color: #153CEE;\">[2] Baraja.</span> En una baraja de 52 cartas se extraen al azar 10 cartas sin reemplazo.  \n",
    "a) Determina la distribución de probabilidad y traza la gráfica correspondiente para el caso de sacar corazones."
   ]
  },
  {
   "cell_type": "code",
   "execution_count": 5,
   "id": "7a327d98-1d90-4e63-8232-e3f067c8748a",
   "metadata": {},
   "outputs": [
    {
     "name": "stdout",
     "output_type": "stream",
     "text": [
      "Distribución de probabilidad\n",
      "---------------------------\n",
      "p(k=0)= 0.040186120271312714\n",
      "p(k=1)= 0.17413985450902172\n",
      "p(k=2)= 0.30334039172539273\n",
      "p(k=3)= 0.2780620257482767\n",
      "p(k=4)= 0.14745713486651038\n",
      "p(k=5)= 0.04683932519289152\n",
      "p(k=6)= 0.008921776227217432\n",
      "p(k=7)= 0.000991308469690826\n",
      "p(k=8)= 6.0282271805523194e-05\n",
      "p(k=9)= 1.7626395264772862e-06\n",
      "p(k=10)= 1.807835411771576e-08\n"
     ]
    }
   ],
   "source": [
    "# Distribución\n",
    "\n",
    "N = 52 # Tamaño de la población\n",
    "K = 13 # Número de éxitos en la población\n",
    "n = 10  # Tamaño de la muestra\n",
    "k = range(0, min(K, n) + 1)\n",
    "y = hypergeom.pmf(k, N, K, n)\n",
    "\n",
    "\n",
    "print(\"Distribución de probabilidad\")\n",
    "print(\"---------------------------\")\n",
    "for valor in k:\n",
    "    print(\"p(k={})= {}\".format(k[valor], y[valor]))"
   ]
  },
  {
   "cell_type": "code",
   "execution_count": 6,
   "id": "4b526b80-be24-44d3-adce-e6766e05ee72",
   "metadata": {},
   "outputs": [
    {
     "data": {
      "image/png": "[encoded data removed]",
      "text/plain": [
       "<Figure size 432x288 with 1 Axes>"
      ]
     },
     "metadata": {
      "needs_background": "light"
     },
     "output_type": "display_data"
    }
   ],
   "source": [
    "# Grafica \n",
    "\n",
    "import matplotlib.pyplot as plt\n",
    "from scipy.stats import hypergeom\n",
    "\n",
    "N = 52 # Tamaño de la población\n",
    "K = 13 # Número de éxitos en la población\n",
    "n = 10  # Tamaño de la muestra\n",
    "k = range(0, min(K, n) + 1)\n",
    "y = hypergeom.pmf(k, N, K, n)\n",
    "\n",
    "# Graficar la distribución hipergeométrica\n",
    "plt.bar(k, y)\n",
    "plt.xlabel('Número de éxitos en la muestra')\n",
    "plt.ylabel('Probabilidad')\n",
    "plt.title('Distribución Hipergeométrica')\n",
    "plt.show()"
   ]
  },
  {
   "cell_type": "markdown",
   "id": "fd90f890-a702-48ac-b3f8-d7f659dce2a2",
   "metadata": {},
   "source": [
    "b) La probabilidad de que exactamente 3 cartas sean de corazones."
   ]
  },
  {
   "cell_type": "code",
   "execution_count": 8,
   "id": "90827c15-3852-4060-b4ae-0c7231b3b8de",
   "metadata": {},
   "outputs": [
    {
     "name": "stdout",
     "output_type": "stream",
     "text": [
      "0.2780620257482767\n"
     ]
    }
   ],
   "source": [
    "# P(X = 3)\n",
    "\n",
    "N = 52\n",
    "K = 13\n",
    "n = 10\n",
    "k = 3\n",
    "y = hypergeom.pmf(k, N, K, n)\n",
    "print(y)"
   ]
  },
  {
   "cell_type": "markdown",
   "id": "5101915a-dd90-49f6-8121-a1e8bc7f1dd8",
   "metadata": {},
   "source": [
    "c) La probabilidad de que al menos 2 cartas sean de espadas."
   ]
  },
  {
   "cell_type": "code",
   "execution_count": 9,
   "id": "a731770a-f39b-4442-914d-efcf1cab65be",
   "metadata": {},
   "outputs": [
    {
     "name": "stdout",
     "output_type": "stream",
     "text": [
      "0.30334039172539273\n"
     ]
    }
   ],
   "source": [
    "# P(X >= 2)\n",
    "\n",
    "N = 52\n",
    "K = 13\n",
    "n = 10\n",
    "k = 2\n",
    "y = hypergeom.pmf(k, N, K, n)\n",
    "print(y)"
   ]
  },
  {
   "cell_type": "markdown",
   "id": "ca767fd6-c7f1-4fe8-9eef-c3bd17367139",
   "metadata": {},
   "source": [
    "<div id=ex_3></div>\n",
    "\n",
    "[[Menu]](#Menu) |  [[Anterior]](#ex_2)   \n",
    "\n",
    "---\n",
    "\n",
    "<span style=\"color: #153CEE;\">[3] Población.</span> Supongamos que en una pequeña ciudad hay una población total de 500 personas, de las cuales 200 son estudiantes, 150 son empleados y 150 son jubilados. Se selecciona aleatoriamente un grupo de 50 personas para participar en un estudio sobre el uso de la tecnología.  \n",
    "a) Traza la distribucion de probabilidad correspondiente para el caso de los que son estudiantes. "
   ]
  },
  {
   "cell_type": "code",
   "execution_count": 10,
   "id": "7bd9a9bb-d29b-4ca0-a38f-9fb639f0ca50",
   "metadata": {},
   "outputs": [
    {
     "data": {
      "image/png": "[encoded data removed]",
      "text/plain": [
       "<Figure size 432x288 with 1 Axes>"
      ]
     },
     "metadata": {
      "needs_background": "light"
     },
     "output_type": "display_data"
    }
   ],
   "source": [
    "# Grafica\n",
    "\n",
    "N = 500 # Tamaño de la población\n",
    "K = 200 # Número de éxitos en la población\n",
    "n = 50  # Tamaño de la muestra\n",
    "k = range(0, min(K, n) + 1)\n",
    "y = hypergeom.pmf(k, N, K, n)\n",
    "\n",
    "plt.bar(k, y)\n",
    "plt.xlabel('Número de éxitos en la muestra')\n",
    "plt.ylabel('Probabilidad')\n",
    "plt.title('Distribución Hipergeométrica')\n",
    "plt.show()"
   ]
  },
  {
   "cell_type": "markdown",
   "id": "5bc5555a-3ce5-4207-a73b-6e6a47777004",
   "metadata": {},
   "source": [
    "b) ¿Cuál es la probabilidad de que exactamente 15 sean estudiantes?"
   ]
  },
  {
   "cell_type": "code",
   "execution_count": 25,
   "id": "11fdbf1a-e473-4c8b-9dc2-1612457c216c",
   "metadata": {},
   "outputs": [
    {
     "name": "stdout",
     "output_type": "stream",
     "text": [
      "0.03884958292359748\n"
     ]
    }
   ],
   "source": [
    "N = 500\n",
    "K = 200\n",
    "n = 50\n",
    "k = 15\n",
    "y = hypergeom.pmf(k, N, K, n)\n",
    "print(y)"
   ]
  },
  {
   "cell_type": "markdown",
   "id": "02d96a1f-9951-40fa-b076-03c729e7653c",
   "metadata": {},
   "source": [
    "c) ¿Cuál es la probabilidad de que al menos 10 personas sean estudiantes en el grupo seleccionado?"
   ]
  },
  {
   "cell_type": "code",
   "execution_count": 27,
   "id": "5cb4bf3f-4dd0-4f17-bf02-194db45078a1",
   "metadata": {},
   "outputs": [
    {
     "name": "stdout",
     "output_type": "stream",
     "text": [
      "0.9995649830718943\n"
     ]
    }
   ],
   "source": [
    "N = 500\n",
    "K = 200\n",
    "n = 50\n",
    "k = list(range(10, n + 1))\n",
    "y = hypergeom.pmf(k, N, K, n)\n",
    "print(sum(y))"
   ]
  }
 ],
 "metadata": {
  "kernelspec": {
   "display_name": "Python 3 (ipykernel)",
   "language": "python",
   "name": "python3"
  },
  "language_info": {
   "codemirror_mode": {
    "name": "ipython",
    "version": 3
   },
   "file_extension": ".py",
   "mimetype": "text/x-python",
   "name": "python",
   "nbconvert_exporter": "python",
   "pygments_lexer": "ipython3",
   "version": "3.8.5"
  }
 },
 "nbformat": 4,
 "nbformat_minor": 5
}
