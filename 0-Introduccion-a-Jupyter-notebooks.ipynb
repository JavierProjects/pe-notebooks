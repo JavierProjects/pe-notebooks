{
 "cells": [
  {
   "cell_type": "markdown",
   "metadata": {},
   "source": [
    "# Introduccion a los Jupyter Notebooks"
   ]
  },
  {
   "cell_type": "markdown",
   "metadata": {
    "id": "-m2r3iFn8nY5"
   },
   "source": [
    "> Datos del propietario\n",
    "\n",
    "- Dr. Cuadros Romero Francisco Javier\n",
    "- Profesor @[ITSOEH](https://www.itsoeh.edu.mx/front/) en la Division de Ingeniería en Tecnológias de la Información y Comunicaciones.\n",
    "- fcuadros@itsoeh.edu.mx"
   ]
  },
  {
   "cell_type": "markdown",
   "metadata": {
    "id": "pBLKpqbk8nZB"
   },
   "source": [
    "# Contenido de esta seccion\n",
    "- [1. Introducción a JupyterLab](#sec1)\n",
    "- [2. Modos de un Jupyter Notebook](#sec2)\n",
    "- [2.1 Command mode (Modo de comandos)](#sec21)\n",
    "- [2.1.1 Atajos de teclado en Command mode](#sec211)\n",
    "- [2.2 Edit mode (Modo de edición)](#sec22)\n",
    "- [2.2.1 Simbolos utiles para formatear texto en Edit mode](#sec-221)\n",
    "- [3. Ecuaciones en  $\\LaTeX{}$](#sec3)\n",
    "- [3.1 Formula general](#sec31)\n",
    "- [3.2 Funcion por partes](#sec32)"
   ]
  },
  {
   "cell_type": "markdown",
   "metadata": {
    "id": "ozLcYmm68nZC"
   },
   "source": [
    "<a id=\"sec1\"></a>\n",
    "\n",
    "---\n",
    "\n",
    "# 1. Introducción a JupyterLab\n",
    "[[Contenido]](#Contenido-de-esta-seccion)\n",
    "\n",
    "> La persona que no lee no tiene ventaja sobre la que no sabe leer.\n",
    "\n",
    "Los **Jupyter Notebooks o cuadernos Jupiter** son una nueva forma de trabajar con datos y codigo de una manera bastante facil y agradable.\n",
    "\n",
    "Un **Jupyter Notebook**  es un documento que puede contener código y elementos de texto enriquecido, como figuras, enlaces, ecuaciones, etc. Debido a la combinación de elementos de código y texto, estos documentos son el lugar ideal para reunir una descripción de análisis y sus resultados, así como también, se pueden ejecutar para realizar el análisis de datos en tiempo real.\n",
    "\n",
    "\"Jupyter\" es un acrónimo que significa Julia, Python y R. Estos lenguajes de programación fueron los primeros lenguajes soportados por la aplicación Jupyter.\n",
    "\n",
    "---"
   ]
  },
  {
   "cell_type": "markdown",
   "metadata": {
    "id": "laElMSVa8nZE"
   },
   "source": [
    "<a id=sec2></a>\n",
    "\n",
    "# 2. Modos de un Jupyter Notebook\n",
    "[[Contenido]](#Contenido-de-esta-seccion)\n",
    "\n",
    "Un **Jupyter Notebook** tiene dos modos: \n",
    "1. Modo de comandos, en ingles *Command mode* y\n",
    "2. Modo de edición, en ingles *Edit mode*."
   ]
  },
  {
   "cell_type": "markdown",
   "metadata": {
    "id": "zraCsJEr8nZE"
   },
   "source": [
    "<a id=\"sec21\"></a>\n",
    "\n",
    "## 2.1 ***Command mode*** (Modo de comandos)\n",
    "[[Contenido]](#Contenido-de-esta-seccion)\n",
    "\n",
    "Cuando un **Jupyter Notebook** abre por defecto se encuentra en *Command mode*. El *Command mode* está diseñado para navegar y cambiar fácilmente el **framework** (en español, espacio de trabajo)  de tu Notebook, este framework está compuesto de celdas que mantienen datos, texto y código  en un pequeño contenedor. \n",
    "\n",
    "Usa las teclas con las flechas de arriba y abajo para poder desplazarte por las celdas del notebook rapidamente. Cuando una celda esta activa al lado izquierdo de esta, aparece un rectangulo color azul.\n",
    "\n",
    "<a id=\"sec211\"></a>\n",
    "\n",
    "### 2.1.1 Atajos de teclado en *Command mode*\n",
    "[[Contenido]](#Contenido-de-esta-seccion)\n",
    "\n",
    "- **a** para insertar una celda **arriba**\n",
    "- **b** para insertar una celda **abajo**\n",
    "- **c** para copiar una celda\n",
    "- **v** para pegar una celda\n",
    "- **x** para cortar una celda\n",
    "- presionar 2 veces **d** para borrar una celda\n",
    "- **z** para deshacer una celda\n",
    "- **Shift** + **z** para rehacer una celda\n",
    "- Presionando **y** se cambia el formato de una celda a **codigo** \n",
    "- Presionando **m** se cambia el formato de una celda a **Markdown**"
   ]
  },
  {
   "cell_type": "markdown",
   "metadata": {
    "id": "N34stI9U8nZF"
   },
   "source": [
    "<a id=\"sec22\"></a>\n",
    "\n",
    "## 2.2 ***Edit mode*** (Modo de edición)\n",
    "[[Contenido]](#Contenido-de-esta-seccion)\n",
    "\n",
    "Presiona *enter* en una celda activa (aquella que tiene el rectangulo azul a su izquierda) para activar el modo de edicon de esa celda. Si la celda esta en modo ***Markdown***, entonces es facil dar formato al texto que este contenido dentro de esta celda.\n",
    "\n",
    "Por ejemplo si se ecribe **# Titulo 1**, esto convertira la linea completa en un **Titulo tipo 1** como el que se muestra a continuación"
   ]
  },
  {
   "cell_type": "markdown",
   "metadata": {
    "id": "bdE7RZsD8nZH"
   },
   "source": [
    "# Titulo 1"
   ]
  },
  {
   "cell_type": "markdown",
   "metadata": {
    "id": "WBraAV_R8nZI"
   },
   "source": [
    "si se escribe **## Titulo 2**, esto convertira la linea completa en un **Titulo tipo 2** como el que se muestra a continuación "
   ]
  },
  {
   "cell_type": "markdown",
   "metadata": {
    "id": "rpqt5hMo8nZI"
   },
   "source": [
    "## Titulo 2"
   ]
  },
  {
   "cell_type": "markdown",
   "metadata": {
    "id": "O8p5Z47X8nZJ"
   },
   "source": [
    "y que respecto del anterior (**# Titulo 1**) es mas pequeño. Se pueden continuar añadiendo almohadillas o numerales (***#***)  a los titulos para que sean cada ves mas pequeños, el *numero maximo de numerales es 6* para producir un **Titulo tipo 6**"
   ]
  },
  {
   "cell_type": "markdown",
   "metadata": {
    "id": "Y1q2HzrV8nZK"
   },
   "source": [
    "<a id=\"sec-221\"></a>\n",
    "\n",
    "### 2.2.1 Simbolos utiles para formatear texto en *Edit mode*\n",
    "[[Contenido]](#Contenido-de-esta-seccion)\n",
    "\n",
    "- guion medio ($\\mathbf{-}$) al principio de un renglon para  listas no ordenadas,\n",
    "- numero seguido de un punto ($\\mathbf{1.}$) para listas ordenadas,\n",
    "- simbolo de \"mayor que\" ($\\mathbf{\\gt}$) para una cita,\n",
    "- tres guines medios ($\\mathbf{---}$) para una linea horizonatal.\n",
    "- acento grave  ($\\mathbf{\\grave{}}$) para insertar codigo p.ej. `a = 12/3`\n",
    "- tres acentos graves para bloques de codigo grandes p.ej. \n",
    "\n",
    "```\n",
    "for i in range(5)\n",
    "        print(i)\n",
    "```\n",
    "\n",
    "- signo de pesos ($\\$$) para insertar ecuaciones p.ej. $$x = \\frac {-b \\pm \\sqrt {b^2 - 4ac}}{2a}$$ (se utiliza $\\LaTeX{}$)\n",
    "- direcciones URL para crear links de forma automatica p.ej www.jupyter.org \n",
    "- hipervinculos personalizados siguiendo el siguiente formato `[Nombre del hipervinculo](URL)` p.ej. visita la pagina oficial de [Jupyter](https://jupyter.org/index.html)\n",
    "---"
   ]
  },
  {
   "cell_type": "markdown",
   "metadata": {},
   "source": [
    "<a id=sec3></a>\n",
    "\n",
    "# 3. Ecuaciones en  $\\LaTeX{}$\n",
    "[[Contenido]](#Contenido-de-esta-seccion)\n",
    "\n",
    "$\\LaTeX{}$ es un sistema de preparación de documentos que se utiliza principalmente para la creación de documentos científicos y técnicos. Se basa en el lenguaje de marcado `TeX`, desarrollado por __Donald Knuth__ en los años 70. Si bien se pueden escribir multiplicidad de ecuaciones usando $\\LaTeX{}$ a continuacion se muestran algunos ejemplos relevantes para la asignatura de probabilidad y estadistica.\n",
    "\n",
    "- __Subindices__: Para generar $x_{0}, x_{n-1}$ escribimos:   \n",
    "\n",
    "```\n",
    "$x_{0}, x_{n-1}$\n",
    "```\n",
    "- __Potencias__: Para generar $x^{2}, x^{n-1}$ escribimos:   \n",
    "\n",
    "```\n",
    "$x^{2}, x^{n-1}$\n",
    "```\n",
    "- __Funciones__: Para generar $ax^2 + bx + c$ escribimos:   \n",
    "\n",
    "```\n",
    "$ax^{2} + bx + c$\n",
    "```\n",
    "- __Division__: Para generar $\\frac{x + b}{x - a}$ escribimos:   \n",
    "\n",
    "```\n",
    "$\\frac{x + b}{x - a}$\n",
    "```\n",
    "- __Raices__: Para generar $\\sqrt{x}, \\sqrt[4]{x}$ escribimos:   \n",
    "\n",
    "```\n",
    "$\\sqrt{x}, \\sqrt[4]{x}$\n",
    "```"
   ]
  },
  {
   "cell_type": "markdown",
   "metadata": {},
   "source": [
    "<a id=sec31></a>\n",
    "\n",
    "## 3.1 Formula general\n",
    "[[Contenido]](#Contenido-de-esta-seccion)\n",
    "\n",
    "A continuacion vamos a describir el procedimiento para encontrar las raices de $2x^{2} + 3x + 1$. Para encontrar las raices  de esta ecuacion cuadratica vamos a utilizar la formula general\n",
    "$$\n",
    "x = \\frac{-b \\pm \\sqrt{b^{2} - 4ac}}{2a}\n",
    "$$   \n",
    "\n",
    "Como podemos observar los valores de los coeficienrtes son: $a=2, b=3 \\mbox{ y } c=1.$ Al sustituir estos coeficientes tenemos   \n",
    "\n",
    "$$\n",
    "\\begin{align}\n",
    "x &= \\frac{-b \\pm \\sqrt{b^{2} - 4ac}}{2a}\\\\\n",
    "x &= \\frac{-3 \\pm \\sqrt{3^{2} - 4 \\cdot 2 \\cdot 1}}{2 \\cdot 2}\\\\\n",
    "x &= \\frac{-3 \\pm \\sqrt{9 - 4 \\cdot 2 \\cdot 1}}{4}\\\\\n",
    "x &= \\frac{-3 \\pm \\sqrt{9 - 8}}{4} = \\frac{-3 \\pm \\sqrt{1}}{4} = \\frac{-3 \\pm 1}{4}\\\\\n",
    "x_{1}&= \\frac{-3 + 1}{4} = \\frac{-2}{4}, x_{2}= \\frac{-3 - 1}{4} = \\frac{-4}{4}\\\\\\\\\n",
    "x_{1}&= \\frac{-1}{2}, x_{2}= -1\n",
    "\\end{align}\n",
    "$$  \n",
    "\n",
    "Por lo tanto podemos decir que las raices o cruces por cero de la funcion cuadratica $2x^{2} + 3x + 1$ son $x_{1}= -\\frac{1}{2} \\mbox{ y } x_{2}= -1$, esto lo podemos corroborar con la siguiente grafica.\n",
    "\n",
    "<div style=\"text-align: center;\">\n",
    "    <img src=\"./imagenes/ex_cuadratica.png\" width=\"400\">\n",
    "</div>\n",
    "\n",
    "\n",
    "El codigo de $\\LaTeX{}$ utilizado para explicar el procedimiento para hallar las raices de la ecuacion cuadratica es el siguiente\n",
    "\n",
    "```\n",
    "$$\n",
    "\\begin{align}\n",
    "x &= \\frac{-b \\pm \\sqrt{b^{2} - 4ac}}{2a}\\\\\n",
    "x &= \\frac{-3 \\pm \\sqrt{3^{2} - 4 \\cdot 2 \\cdot 1}}{2 \\cdot 2}\\\\\n",
    "x &= \\frac{-3 \\pm \\sqrt{9 - 4 \\cdot 2 \\cdot 1}}{4}\\\\\n",
    "x &= \\frac{-3 \\pm \\sqrt{9 - 8}}{4} = \\frac{-3 \\pm \\sqrt{1}}{4} = \\frac{-3 \\pm 1}{4}\\\\\n",
    "x_{1}&= \\frac{-3 + 1}{4} = \\frac{-2}{4}, x_{2}= \\frac{-3 - 1}{4} = \\frac{-4}{4}\\\\\\\\\n",
    "x_{1}&= \\frac{-1}{2}, x_{2}= -1\n",
    "\\end{align}\n",
    "$$  \n",
    "```\n",
    "\n",
    "- `\\begin{align}` se utiliza para alinear ecuaciones utilizando como punto de referencia el signo $\\&$ que en el ejemplo de arriba se coloco antes de los signos de `=`. Esto es especialmente útil cuando se presentan múltiples ecuaciones que comparten una estructura similar.\n",
    "- `\\\\` la doble barra invertida al final de cada ecuacion indica un salto de linea."
   ]
  },
  {
   "cell_type": "markdown",
   "metadata": {},
   "source": [
    "<a id=sec32></a>\n",
    "\n",
    "## 3.2 Funcion por partes\n",
    "[[Contenido]](#Contenido-de-esta-seccion)\n",
    "\n",
    "En ocasiones es necesario escribir una funcion por parte; es decir, una funcion que toma diferentes valores en funcion de una variable discreta. Un ejemplo de dicha funcion es el siguiente:   \n",
    "\n",
    "$$\n",
    "\\begin{align}\n",
    "x = \n",
    "\\begin{cases} \n",
    "2b  &\\mbox{ Si } a=1\\\\\n",
    "2^b &\\mbox{ Si } a=2\\\\\n",
    "2/b &\\mbox{ Si } a=3\\\\\n",
    "0   &\\mbox{ Cualquier otro caso}\n",
    "\\end{cases} \n",
    "\\end{align}\n",
    "$$\n",
    "\n",
    "Para lograr escribir la funcion que aparece arriba es necesario utilizar el siguiente codigo de $\\LaTeX{}$:\n",
    "\n",
    "```\n",
    "$$\n",
    "\\begin{align}\n",
    "val = \n",
    "\\begin{cases} \n",
    "2b  &\\mbox{ Si } a=1\\\\\n",
    "2^b &\\mbox{ Si } a=2\\\\\n",
    "2/b &\\mbox{ Si } a=3\\\\\n",
    "0   &\\mbox{ Cualquier otro caso}\n",
    "\\end{cases} \n",
    "\\end{align}\n",
    "$$\n",
    "```\n",
    "\n",
    "- `\\begin{cases}` se utiliza para crear la función  por partes, esto de forma grafica se representa con el simbolo de la llave $\\{$."
   ]
  }
 ],
 "metadata": {
  "colab": {
   "provenance": [],
   "toc_visible": true
  },
  "kernelspec": {
   "display_name": "Python 3 (ipykernel)",
   "language": "python",
   "name": "python3"
  },
  "language_info": {
   "codemirror_mode": {
    "name": "ipython",
    "version": 3
   },
   "file_extension": ".py",
   "mimetype": "text/x-python",
   "name": "python",
   "nbconvert_exporter": "python",
   "pygments_lexer": "ipython3",
   "version": "3.8.5"
  }
 },
 "nbformat": 4,
 "nbformat_minor": 4
}
