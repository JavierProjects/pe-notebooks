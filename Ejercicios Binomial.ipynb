{
 "cells": [
  {
   "cell_type": "markdown",
   "id": "9166666f-12e6-44b2-911c-669062032a73",
   "metadata": {},
   "source": [
    "# Ditribución Binomial (pag. 164) "
   ]
  },
  {
   "cell_type": "code",
   "execution_count": 1,
   "id": "69255354-ff6a-426c-9aec-06cea7312813",
   "metadata": {},
   "outputs": [
    {
     "name": "stdout",
     "output_type": "stream",
     "text": [
      "Bibliotecas cargadas\n"
     ]
    }
   ],
   "source": [
    "import matplotlib.pyplot as plt\n",
    "from scipy.stats import binom\n",
    "print(\"Bibliotecas cargadas\")"
   ]
  },
  {
   "cell_type": "markdown",
   "id": "576fb6a7-6387-48af-b147-ffb04bc8fd83",
   "metadata": {
    "tags": []
   },
   "source": [
    ">--- \n",
    "Nota: en algunas celdas se redeclaran algunas variables para efectos de compresión del procedimiento."
   ]
  },
  {
   "cell_type": "markdown",
   "id": "740b903a-db14-481d-8b60-5a7dbb57fca3",
   "metadata": {},
   "source": [
    "# Menu\n",
    "\n",
    "- [[7] Seguridad](#ex_7)\n",
    "- [[8] Redes sociales](#ex_8)\n",
    "- [[9] Seguros](#ex_9)\n",
    "- [[10] Sexualidad](#ex_10)\n",
    "- [[11] Servicios](#ex_11)\n",
    "- [[12] Psicología](#ex_12)\n",
    "- [[13] Economía](#ex_13)\n",
    "- [[14] Salud](#ex_14)"
   ]
  },
  {
   "cell_type": "markdown",
   "id": "8f522a01-4c85-4630-97af-6ea17e088a3e",
   "metadata": {},
   "source": [
    "<div id=ex_7></div>\n",
    "\n",
    "[[Menu]](#Menu)   |   [[Siguiente]](#ex_8) \n",
    "___\n",
    "\n",
    "<span style=\"color: #153CEE;\">[7] Seguridad</span>. Según un anuncio comercial de colchones, 30% de los accidentes automovilísticos se deben a la falta de sueño. Supón que en un día cualquiera ocurren 10 accidentes automovilísticos.  \n",
    "a) Determina la distribución de probabilidad y traza la gráfica correspondiente."
   ]
  },
  {
   "cell_type": "code",
   "execution_count": 16,
   "id": "3bb8825f-b135-4891-b17a-ba5110e0219d",
   "metadata": {},
   "outputs": [
    {
     "name": "stdout",
     "output_type": "stream",
     "text": [
      "Distribución de probabilidad\n",
      "---------------------------\n",
      "p(k=0)= 0.02824752489999998\n",
      "p(k=1)= 0.12106082099999989\n",
      "p(k=2)= 0.2334744405000001\n",
      "p(k=3)= 0.26682793199999977\n",
      "p(k=4)= 0.2001209489999999\n",
      "p(k=5)= 0.10291934519999989\n",
      "p(k=6)= 0.036756908999999956\n",
      "p(k=7)= 0.009001691999999992\n",
      "p(k=8)= 0.0014467004999999982\n",
      "p(k=9)= 0.00013778099999999988\n",
      "p(k=10)= 5.9048999999999975e-06\n"
     ]
    }
   ],
   "source": [
    "# Distribución\n",
    "n = 10\n",
    "p = 0.3\n",
    "k = list(range(n + 1))\n",
    "y = binom.pmf(k, n, p)\n",
    "\n",
    "print(\"Distribución de probabilidad\")\n",
    "print(\"---------------------------\")\n",
    "for valor in k:\n",
    "    print(\"p(k={})= {}\".format(k[valor], y[valor]))"
   ]
  },
  {
   "cell_type": "code",
   "execution_count": 2,
   "id": "09283efa-1d6b-4169-8a2c-c79c670c0d5e",
   "metadata": {},
   "outputs": [
    {
     "data": {
      "image/png": "[encoded data removed]",
      "text/plain": [
       "<Figure size 432x288 with 1 Axes>"
      ]
     },
     "metadata": {
      "needs_background": "light"
     },
     "output_type": "display_data"
    }
   ],
   "source": [
    "# Trazar grafica\n",
    "\n",
    "n = 10\n",
    "p = 0.3\n",
    "k = list(range(n + 1))\n",
    "y = binom.pmf(k, n, p)\n",
    "plt.bar(k, y)\n",
    "plt.xlabel(\"Valores de k\")\n",
    "plt.ylabel(\"Probabilidades\")\n",
    "plt.title(\"Distribución Binomial\")\n",
    "plt.show()"
   ]
  },
  {
   "cell_type": "markdown",
   "id": "15b36f77-3013-42d6-bd65-d686dae4b61f",
   "metadata": {},
   "source": [
    "b) ¿Qué tipo de sesgo presenta la distribución?"
   ]
  },
  {
   "cell_type": "markdown",
   "id": "9cbad306-c16b-4313-97f8-289d932a4073",
   "metadata": {},
   "source": [
    "Cualquier valor de p menor a 0.5 provoca que la distribución se sesgue a la izquierda, por lo que esta distribución presenta un sesgo a la izquierda."
   ]
  },
  {
   "cell_type": "markdown",
   "id": "94d0c439-e6d5-4259-a87d-3c2778885173",
   "metadata": {},
   "source": [
    "c) Calcula la probabilidad de que cinco de los accidentes se hayan debido a la falta de sueño."
   ]
  },
  {
   "cell_type": "code",
   "execution_count": 17,
   "id": "da0ae29c-da00-4e7b-98fb-c117a2f70e0f",
   "metadata": {},
   "outputs": [
    {
     "name": "stdout",
     "output_type": "stream",
     "text": [
      "0.10291934519999989\n"
     ]
    }
   ],
   "source": [
    "# P(X = 5)\n",
    "\n",
    "n = 10\n",
    "p = 0.3\n",
    "k = 5\n",
    "y = binom.pmf(k, n, p)\n",
    "print(y)"
   ]
  },
  {
   "cell_type": "markdown",
   "id": "318e440d-983d-4ae0-9068-59c4b4378ca9",
   "metadata": {},
   "source": [
    "d) Calcula la probabilidad de que al menos dos accidentes hayan sido ocasionados por la falta\n",
    "de sueño."
   ]
  },
  {
   "cell_type": "code",
   "execution_count": 18,
   "id": "470e049c-8b9b-48a6-8a55-f0fda95f6d62",
   "metadata": {},
   "outputs": [
    {
     "name": "stdout",
     "output_type": "stream",
     "text": [
      "0.8506916540999995\n"
     ]
    }
   ],
   "source": [
    "# P(X >= 2) almenos 2 \n",
    "\n",
    "n = 10\n",
    "p = 0.3\n",
    "k = range(2, n + 1)\n",
    "y = binom.pmf(k, n, p)\n",
    "print(sum(y))"
   ]
  },
  {
   "cell_type": "markdown",
   "id": "dbd795b6-b154-492f-8e0d-004777400453",
   "metadata": {},
   "source": [
    "e) ¿Cuántos accidentes esperarías que fueran provocados por falta de sueño?"
   ]
  },
  {
   "cell_type": "code",
   "execution_count": 20,
   "id": "64b5d897-d90e-453d-8321-7209ad2c2276",
   "metadata": {},
   "outputs": [
    {
     "name": "stdout",
     "output_type": "stream",
     "text": [
      "3.0\n"
     ]
    }
   ],
   "source": [
    "# E(X) = np valor esperado\n",
    "\n",
    "n = 10\n",
    "p = 0.3\n",
    "print(n*p)"
   ]
  },
  {
   "cell_type": "markdown",
   "id": "b16a38d1-255f-456f-84c1-35f378138638",
   "metadata": {
    "jp-MarkdownHeadingCollapsed": true,
    "tags": []
   },
   "source": [
    "<div id=ex_8></div>\n",
    "\n",
    "[[Menu]](#Menu)   |   [[Anterior]](#ex_7)   [[Siguiente]](#ex_9) \n",
    "___\n",
    "\n",
    "<span style=\"color: #153CEE;\">[8] Redes sociales</span>. En México, 6% de los 30 millones de usuarios de internet que hay utilizan Twitter. (Torres, 2010). Si conoces a 15 personas que sean asiduas a las redes sociales:  \n",
    "a) ¿Cuál es la probabilidad de que 9 o más utilicen Twitter?  "
   ]
  },
  {
   "cell_type": "code",
   "execution_count": 4,
   "id": "2cf45b97-1f0c-44e4-915f-1f20dbf4c5d1",
   "metadata": {},
   "outputs": [
    {
     "name": "stdout",
     "output_type": "stream",
     "text": [
      "3.61683725007463e-08\n"
     ]
    }
   ],
   "source": [
    "# P(X >= 9) = P(X = 9) + P(X = 10) + ... + P(X = 15)\n",
    "k = [9, 10, 11, 12, 13, 14, 15]\n",
    "n = 15\n",
    "p = 0.06\n",
    "y = binom.pmf(k, n, p)\n",
    "result = sum(y)\n",
    "print(result)"
   ]
  },
  {
   "cell_type": "markdown",
   "id": "7b422080-57fa-40ea-8b1d-71ccaa8ff1c0",
   "metadata": {},
   "source": [
    "b) ¿Cuál es la probabilidad de que máximo dos usen esa red?  "
   ]
  },
  {
   "cell_type": "code",
   "execution_count": 6,
   "id": "9bdf9e04-7a3e-4edc-a880-28675078fce7",
   "metadata": {},
   "outputs": [
    {
     "name": "stdout",
     "output_type": "stream",
     "text": [
      "0.9428666761723689\n"
     ]
    }
   ],
   "source": [
    "# P(X <= 2) = P(X = 0) + P(X = 1) + P(X = 2)\n",
    "k = [0, 1, 2]\n",
    "n = 15\n",
    "p = 0.06\n",
    "y = binom.pmf(k, n, p)\n",
    "result = sum(y)\n",
    "print(result)"
   ]
  },
  {
   "cell_type": "markdown",
   "id": "e9bfb526-5714-47ce-a2c5-0f17add6320e",
   "metadata": {},
   "source": [
    "<div id=ex_9></div>\n",
    "\n",
    "[[Menu]](#Menu)   |   [[Anterior]](#ex_8)   [[Siguiente]](#ex_10) \n",
    "___\n",
    "\n",
    "<span style=\"color: #153CEE;\">[9] Seguros</span>. De acuerdo con la Asociación Mexicana de Instituciones de Seguros (amis), en 2010 sólo 47% de los automóviles contaban con un seguro. Si se realizara una revisión a 18 automóviles:  \n",
    "a) ¿Cómo sería su distribución? Determina la distribución de probabilidad, traza la gráfica correspondiente e indica el tipo de sesgo que presenta."
   ]
  },
  {
   "cell_type": "markdown",
   "id": "772ab6e5-534c-47bc-bc4d-ce4773b62900",
   "metadata": {},
   "source": [
    "La ditribución esta ligeramente sesgada a la **IZQUIERDA**"
   ]
  },
  {
   "cell_type": "code",
   "execution_count": 30,
   "id": "6ae973d9-6644-43b6-9c0a-cb803ef513fc",
   "metadata": {},
   "outputs": [
    {
     "data": {
      "image/png": "[encoded data removed]",
      "text/plain": [
       "<Figure size 432x288 with 1 Axes>"
      ]
     },
     "metadata": {
      "needs_background": "light"
     },
     "output_type": "display_data"
    }
   ],
   "source": [
    "# Trazar grafica\n",
    "\n",
    "n = 18\n",
    "p = 0.47\n",
    "k = list(range(n + 1))\n",
    "y = binom.pmf(k, n, p)\n",
    "plt.bar(k, y)\n",
    "plt.xlabel(\"Valores de k\")\n",
    "plt.ylabel(\"Probabilidades\")\n",
    "plt.title(\";)\")\n",
    "plt.show()"
   ]
  },
  {
   "cell_type": "markdown",
   "id": "8d333b78-5ae7-46dd-9906-2efabf7a65b3",
   "metadata": {},
   "source": [
    "b) ¿Cuántos autos esperas que cuenten con seguro?"
   ]
  },
  {
   "cell_type": "code",
   "execution_count": 9,
   "id": "c6d49e64-1f08-4384-9e44-7aed5f538db1",
   "metadata": {},
   "outputs": [
    {
     "name": "stdout",
     "output_type": "stream",
     "text": [
      "8.459999999999999\n"
     ]
    }
   ],
   "source": [
    "# E(X) = pn\n",
    "n = 18\n",
    "p = 0.47\n",
    "print(p*n)"
   ]
  },
  {
   "cell_type": "markdown",
   "id": "6b2065a1-78bc-4035-b7d6-5e0ed27ba80b",
   "metadata": {},
   "source": [
    "c) ¿Cuál es la probabilidad de que 13 o más autos tengan seguro?"
   ]
  },
  {
   "cell_type": "code",
   "execution_count": 11,
   "id": "51697f21-17ed-4c29-bbf9-e5fa83394f21",
   "metadata": {},
   "outputs": [
    {
     "name": "stdout",
     "output_type": "stream",
     "text": [
      "0.02750034178134795\n"
     ]
    }
   ],
   "source": [
    "# P(X >= 13) = P(X = 13) + P(X = 14) + ... + P(X = 18)\n",
    "# k = [13, 14, 15, 16, 17, 18]\n",
    "n = 18\n",
    "p = 0.47\n",
    "k = list(range(13, n + 1))\n",
    "y = binom.pmf(k, n, p)\n",
    "result = sum(y)\n",
    "print(result)"
   ]
  },
  {
   "cell_type": "markdown",
   "id": "04931f28-0d7e-43a6-9212-0c11de97d438",
   "metadata": {},
   "source": [
    "d) Investiga cuáles son las coberturas principales que tiene un seguro paraautomóviles.Reali-\n",
    "za una discusión con tus compañeros sobre la importancia de contar con seguro."
   ]
  },
  {
   "cell_type": "markdown",
   "id": "ea0c2bd9-0bb6-4fa6-a04a-4b49bee2764c",
   "metadata": {
    "tags": []
   },
   "source": [
    "<div id=ex_10></div>\n",
    "\n",
    "[[Menu]](#Menu)   |   [[Anterior]](#ex_9)   [[Siguiente]](#ex_11) \n",
    "___\n",
    "\n",
    "<span style=\"color: #153CEE;\">[10] Sexualidad</span>. Con base en la Encuesta Nacional de Juventud 2005, 90% de los adolescentes entre 15 y 19 años afirmó que tuvo su primera relación sexual antes de los 18 años. Si en un grupo hay 20 adolescentes entre 15 y 19 años, entonces:  \n",
    "a) ¿Cuántos esperarías que contestaran que tuvieron su primera relación sexual antes de los 18 años?"
   ]
  },
  {
   "cell_type": "code",
   "execution_count": 12,
   "id": "8dc763bb-62ff-4e29-b83f-5b2b819eec96",
   "metadata": {},
   "outputs": [
    {
     "name": "stdout",
     "output_type": "stream",
     "text": [
      "18.0\n"
     ]
    }
   ],
   "source": [
    "# E(X) = pn\n",
    "n = 20\n",
    "p = 0.9\n",
    "print(p*n)"
   ]
  },
  {
   "cell_type": "markdown",
   "id": "5e0352e0-594b-45a9-a74f-8bd2a3e301e0",
   "metadata": {},
   "source": [
    "b) ¿Cuál es la probabilidad de que 12 de ellos digan que tuvieron su primera relación sexual antes de los 18 años?"
   ]
  },
  {
   "cell_type": "code",
   "execution_count": 13,
   "id": "a2c06bb5-e839-409a-9650-155c00f0b525",
   "metadata": {},
   "outputs": [
    {
     "name": "stdout",
     "output_type": "stream",
     "text": [
      "0.00035577648710511533\n"
     ]
    }
   ],
   "source": [
    "# P(X = 12)\n",
    "k = 12\n",
    "n = 20\n",
    "p = 0.9\n",
    "y = binom.pmf(k, n, p)\n",
    "print(y)"
   ]
  },
  {
   "cell_type": "markdown",
   "id": "5ee88cda-2760-4427-a083-17b3593475a2",
   "metadata": {},
   "source": [
    "c) ¿Cuál es la probabilidad de que más de 17 digan que tuvieron su primera relación sexual antes de los 18 años?"
   ]
  },
  {
   "cell_type": "code",
   "execution_count": 16,
   "id": "07823606-8f75-4e92-ae54-6f251c3e96c6",
   "metadata": {},
   "outputs": [
    {
     "name": "stdout",
     "output_type": "stream",
     "text": [
      "0.6769268051894659\n"
     ]
    }
   ],
   "source": [
    "# P(X > 17)\n",
    "k = [18, 19, 20]\n",
    "n = 20\n",
    "p = 0.9\n",
    "y = binom.pmf(k, n, p)\n",
    "result = sum(y)\n",
    "print(result)"
   ]
  },
  {
   "cell_type": "markdown",
   "id": "2768d5a0-d198-4fff-aa24-a184669b8406",
   "metadata": {},
   "source": [
    "<div id=ex_11></div>\n",
    "\n",
    "[[Menu]](#Menu)   |   [[Anterior]](#ex_10)   [[Siguiente]](#ex_12) \n",
    "___\n",
    "\n",
    "<span style=\"color: #153CEE;\">[11] Servicios</span>. De acuerdo con los datos proporcionados por la Secretaría de Salud en 2010, 34% de la población utiliza los servicios de salud públicos federales o estatales. Se quiere realizar una encuesta a 50 personas sobre la calidad de los servicios de salud. Encuentra:  \n",
    "a) ¿Qué proporción de las personas esperas que asistan a los servicios de salud públicos?"
   ]
  },
  {
   "cell_type": "code",
   "execution_count": 17,
   "id": "09099b87-5241-4f53-ae9b-207f9163e3b0",
   "metadata": {},
   "outputs": [
    {
     "name": "stdout",
     "output_type": "stream",
     "text": [
      "17.0\n"
     ]
    }
   ],
   "source": [
    "# E(X) = pn\n",
    "n = 50\n",
    "p = 0.34\n",
    "print(p*n)"
   ]
  },
  {
   "cell_type": "markdown",
   "id": "e18dc005-4f2d-4bfe-89f4-98c6c4c24c4b",
   "metadata": {},
   "source": [
    "b) ¿Qué probabilidad existe de que 30 personas utilicen los servicios que brinda el gobierno?"
   ]
  },
  {
   "cell_type": "code",
   "execution_count": 18,
   "id": "468e9ba8-bec9-4547-8647-6686614ddc15",
   "metadata": {},
   "outputs": [
    {
     "name": "stdout",
     "output_type": "stream",
     "text": [
      "0.00010198502408028371\n"
     ]
    }
   ],
   "source": [
    "# P(X = 30)\n",
    "k = 30\n",
    "n = 50\n",
    "p = 0.34\n",
    "y = binom.pmf(k, n, p)\n",
    "print(y)"
   ]
  },
  {
   "cell_type": "markdown",
   "id": "77e2f81b-0b61-4347-af09-3c2bf07e28fc",
   "metadata": {},
   "source": [
    "c) ¿Qué probabilidad hay de que cuando mucho 10 utilicen estos servicios?"
   ]
  },
  {
   "cell_type": "code",
   "execution_count": 19,
   "id": "4599c704-2488-4d84-8c3b-4622c5df4430",
   "metadata": {},
   "outputs": [
    {
     "name": "stdout",
     "output_type": "stream",
     "text": [
      "0.022716101187857884\n"
     ]
    }
   ],
   "source": [
    "# P(X <= 10)\n",
    "n = 50\n",
    "p = 0.34\n",
    "k = list(range(11))\n",
    "y = binom.pmf(k, n, p)\n",
    "result = sum(y)\n",
    "print(result)"
   ]
  },
  {
   "cell_type": "markdown",
   "id": "b172cda0-47e6-4718-8a54-8ca86eebe7dd",
   "metadata": {},
   "source": [
    "<div id=ex_12></div>\n",
    "\n",
    "[[Menu]](#Menu)   |   [[Anterior]](#ex_11)   [[Siguiente]](#ex_13) \n",
    "___\n",
    "\n",
    "<span style=\"color: #153CEE;\">[12] Psicología</span>. Según encuestas realizadas, uno de cada cuatro adolescentes estaría dispuesto a someterse a una cirugía plástica para parecerse a alguna personalidad como David Beckham, Usher o Justin Bieber. Supón que 15 personas asisten a una reunión,  \n",
    "a) ¿Cuál es la probabilidad de que al menos 10 de ellas quisieran parecerse a alguna personalidad?"
   ]
  },
  {
   "cell_type": "code",
   "execution_count": 20,
   "id": "3dac428b-fcee-4290-97a3-01cc958ed532",
   "metadata": {},
   "outputs": [
    {
     "name": "stdout",
     "output_type": "stream",
     "text": [
      "0.0007949490100145342\n"
     ]
    }
   ],
   "source": [
    "# P(X >= 10)\n",
    "k = [10, 11, 12, 13, 14, 15]\n",
    "n = 15\n",
    "p = 0.25\n",
    "y = binom.pmf(k, n, p)\n",
    "result = sum(y)\n",
    "print(result)"
   ]
  },
  {
   "cell_type": "markdown",
   "id": "9b98e6b0-9eda-4ead-ae1b-427320f1d4cc",
   "metadata": {},
   "source": [
    "b) ¿Cuál es la probabilidad de que exactamente cinco quisieran practicarse una cirugía plás- tica?"
   ]
  },
  {
   "cell_type": "code",
   "execution_count": 21,
   "id": "9f12f95f-96a7-4055-b645-bf15362b55d3",
   "metadata": {},
   "outputs": [
    {
     "name": "stdout",
     "output_type": "stream",
     "text": [
      "0.16514598112553355\n"
     ]
    }
   ],
   "source": [
    "# P(X = 5)\n",
    "k = 5\n",
    "n = 15\n",
    "p = 0.25\n",
    "y = binom.pmf(k, n, p)\n",
    "print(y)"
   ]
  },
  {
   "cell_type": "markdown",
   "id": "c2988636-62d3-4dbf-9943-3dd90fca7851",
   "metadata": {},
   "source": [
    "<div id=ex_13></div>\n",
    "\n",
    "[[Menu]](#Menu)   |   [[Anterior]](#ex_12)   [[Siguiente]](#ex_14) \n",
    "___\n",
    "\n",
    "<span style=\"color: #153CEE;\">[13] Economía</span>. El Mar de Cortés, en México, es la zona donde se localiza el mayor número de granjas dedicadas al cultivo de ostras perleras. Según los productores, 3.6 de cada cien ostras pueden llegar a tener un buen valor comercial. Si tenemos 150 ostras,  \n",
    "a) Determina la probabilidad de que 12 de ellas tengan perlas de buen valor comercial."
   ]
  },
  {
   "cell_type": "code",
   "execution_count": 22,
   "id": "17fb632c-2726-4525-b856-82d2b8a8965d",
   "metadata": {},
   "outputs": [
    {
     "name": "stdout",
     "output_type": "stream",
     "text": [
      "0.005186208610426657\n"
     ]
    }
   ],
   "source": [
    "# P(X = 12)\n",
    "k = 12\n",
    "n = 150\n",
    "p = 0.036\n",
    "y = binom.pmf(k, n, p)\n",
    "print(y)"
   ]
  },
  {
   "cell_type": "markdown",
   "id": "b7d1e11b-5545-459c-8183-95f63a0e758c",
   "metadata": {},
   "source": [
    "b) Encuentra la probabilidad de que cuando mucho dos tengan perlas de buen valor comercial."
   ]
  },
  {
   "cell_type": "code",
   "execution_count": 25,
   "id": "b14e04ce-3db1-4684-883a-b31b951a8072",
   "metadata": {},
   "outputs": [
    {
     "name": "stdout",
     "output_type": "stream",
     "text": [
      "0.0907070722483964\n"
     ]
    }
   ],
   "source": [
    "# P(X <= 2)\n",
    "k = [0, 1, 2]\n",
    "n = 150\n",
    "p = 0.036\n",
    "y = binom.pmf(k, n, p)\n",
    "result = sum(y)\n",
    "print(result)"
   ]
  },
  {
   "cell_type": "markdown",
   "id": "86e20c89-bc73-4523-a4e4-e56abfb16ed0",
   "metadata": {},
   "source": [
    "<div id=ex_14></div>\n",
    "\n",
    "[[Menu]](#Menu)   |   [[Anterior]](#ex_13)  \n",
    "___\n",
    "\n",
    "<span style=\"color: #153CEE;\">[14] Salud</span>. De acuerdo con la Encuesta de Consumo de Alcohol, Tabaco y otras Drogas en la Ciu- dad de México (2009), 25.3% de las personas consumen marihuana, drogas inhalables o cocaína. Si tenemos un grupo de 25 personas,  \n",
    "a) ¿Cuál es la probabilidad de que 10 de ellas consuman alguna de estas drogas?"
   ]
  },
  {
   "cell_type": "code",
   "execution_count": 26,
   "id": "dc690385-3dad-49ed-92db-319a05abcc14",
   "metadata": {},
   "outputs": [
    {
     "name": "stdout",
     "output_type": "stream",
     "text": [
      "0.044197456172112126\n"
     ]
    }
   ],
   "source": [
    "# P(X = 10)\n",
    "k = 10\n",
    "n = 25\n",
    "p = 0.253\n",
    "y = binom.pmf(k, n, p)\n",
    "print(y)"
   ]
  },
  {
   "cell_type": "markdown",
   "id": "5023cc79-71bb-490d-a5ed-59e774d43095",
   "metadata": {},
   "source": [
    "b) ¿Cuál es la probabilidad de que al menos 20 de ellas consuman alguna de estas drogas?"
   ]
  },
  {
   "cell_type": "code",
   "execution_count": 28,
   "id": "787a8a07-4e61-426e-aaba-50326b63e51c",
   "metadata": {},
   "outputs": [
    {
     "name": "stdout",
     "output_type": "stream",
     "text": [
      "1.549229170685609e-08\n"
     ]
    }
   ],
   "source": [
    "# P(X >= 20)\n",
    "k = [20, 21, 22, 23, 24, 25]\n",
    "n = 25\n",
    "p = 0.253\n",
    "y = binom.pmf(k, n, p)\n",
    "result = sum(y)\n",
    "print(result)"
   ]
  },
  {
   "cell_type": "markdown",
   "id": "289b0877-8788-4ef0-9dd5-ba26c26592b0",
   "metadata": {},
   "source": [
    "c) De las siguientes 50 personas, ¿cuántas esperarías que consumieran alguna de estas drogas?"
   ]
  },
  {
   "cell_type": "code",
   "execution_count": 1,
   "id": "5ee8f7e7-5427-45be-b654-16b142c489ff",
   "metadata": {},
   "outputs": [
    {
     "name": "stdout",
     "output_type": "stream",
     "text": [
      "12.65\n"
     ]
    }
   ],
   "source": [
    "# E(X) = np\n",
    "n = 50\n",
    "p = 0.253\n",
    "print(n*p)"
   ]
  }
 ],
 "metadata": {
  "kernelspec": {
   "display_name": "Python 3 (ipykernel)",
   "language": "python",
   "name": "python3"
  },
  "language_info": {
   "codemirror_mode": {
    "name": "ipython",
    "version": 3
   },
   "file_extension": ".py",
   "mimetype": "text/x-python",
   "name": "python",
   "nbconvert_exporter": "python",
   "pygments_lexer": "ipython3",
   "version": "3.8.5"
  }
 },
 "nbformat": 4,
 "nbformat_minor": 5
}
